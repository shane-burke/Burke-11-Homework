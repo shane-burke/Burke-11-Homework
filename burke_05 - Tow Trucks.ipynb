{
 "cells": [
  {
   "cell_type": "markdown",
   "metadata": {},
   "source": [
    "# Texas Tow Trucks (`.apply` and `requests`)\n",
    "\n",
    "We're going to scrape some [tow trucks in Texas](https://www.tdlr.texas.gov/tools_search/)."
   ]
  },
  {
   "cell_type": "markdown",
   "metadata": {},
   "source": [
    "## Import your imports"
   ]
  },
  {
   "cell_type": "code",
   "execution_count": 1,
   "metadata": {},
   "outputs": [
    {
     "name": "stderr",
     "output_type": "stream",
     "text": [
      "/Users/shaneburke/.pyenv/versions/3.8.2/lib/python3.8/site-packages/pandas/compat/__init__.py:120: UserWarning: Could not import the lzma module. Your installed Python is incomplete. Attempting to use lzma compression will result in a RuntimeError.\n",
      "  warnings.warn(msg)\n"
     ]
    }
   ],
   "source": [
    "import requests\n",
    "import pandas as pd\n",
    "from selenium import webdriver\n",
    "from selenium.webdriver.common.keys import Keys\n",
    "from selenium.webdriver.support.ui import Select\n",
    "from selenium.webdriver.support.ui import WebDriverWait\n",
    "import re\n",
    "import time"
   ]
  },
  {
   "cell_type": "markdown",
   "metadata": {},
   "source": [
    "## Search for the TLDR Number `006565540C`, and scrape the information on that company\n",
    "\n",
    "Using [license information system](https://www.tdlr.texas.gov/tools_search/), find information about the tow truck number above, displaying the\n",
    "\n",
    "- The business name\n",
    "- Owner/operator\n",
    "- Phone number\n",
    "- License status (Active, Expired, Etc)\n",
    "- Physical address\n",
    "\n",
    "If you can't figure a 'nice' way to locate something, your two last options might be:\n",
    "\n",
    "- **Find a \"parent\" element, then dig inside**\n",
    "- **Find all of a type of element** (like we did with `td` before) and get the `[0]`, `[1]`, `[2]`, etc\n",
    "- **XPath** (inspect an element, Copy > Copy XPath)\n",
    "\n",
    "These kinds of techniques tend to break when you're on other result pages, but... maybe not! You won't know until you try.\n",
    "\n",
    "> - *TIP: When you use xpath, you CANNOT use double quotes or Python will get confused. Use single quotes.*\n",
    "> - *TIP: You can clean your data up if you want to, or leave it dirty to clean later*\n",
    "> - *TIP: The address part can be tough, but you have a few options. You can use a combination of `.split` and list slicing to clean it now, or clean it later in the dataframe with regular expressions. Or other options, too, probably*"
   ]
  },
  {
   "cell_type": "code",
   "execution_count": 2,
   "metadata": {},
   "outputs": [],
   "source": [
    "driver = webdriver.Chrome()"
   ]
  },
  {
   "cell_type": "code",
   "execution_count": 3,
   "metadata": {},
   "outputs": [],
   "source": [
    "url = \"https://www.tdlr.texas.gov/tools_search/\"\n",
    "tdlr_no = \"006565540C\"\n",
    "\n",
    "driver.get(url)"
   ]
  },
  {
   "cell_type": "code",
   "execution_count": 4,
   "metadata": {},
   "outputs": [],
   "source": [
    "#Type in the TDLR number\n",
    "tdlr_input = driver.find_element_by_id(\"mcrdata\")\n",
    "tdlr_input.send_keys(tdlr_no)\n",
    "\n",
    "#Submit the form\n",
    "submit_button = driver.find_element_by_id(\"submit3\")\n",
    "submit_button.click()"
   ]
  },
  {
   "cell_type": "code",
   "execution_count": 5,
   "metadata": {},
   "outputs": [],
   "source": [
    "#Table with contact info\n",
    "info_table = driver.find_elements_by_tag_name(\"table\")[4]\n",
    "\n",
    "name = info_table.find_elements_by_tag_name(\"td\")[2].text.strip()\n",
    "owner = info_table.find_elements_by_tag_name(\"td\")[4].text.strip()\n",
    "phone = info_table.find_elements_by_tag_name(\"td\")[6].text.strip()\n",
    "\n",
    "#Table with status\n",
    "info_table2 = driver.find_elements_by_tag_name(\"table\")[5]\n",
    "\n",
    "license_status = info_table2.find_elements_by_tag_name(\"td\")[1].find_element_by_tag_name(\"font\").text.strip()\n",
    "\n",
    "address_info = info_table2.find_elements_by_tag_name(\"td\")[-1].text.strip()\n",
    "phys_address = re.findall(r'Physical:\\n(.+\\n.+)', address_info)[0]\n",
    "phys_address = phys_address.replace('\\n', ', ')"
   ]
  },
  {
   "cell_type": "code",
   "execution_count": 6,
   "metadata": {},
   "outputs": [
    {
     "name": "stdout",
     "output_type": "stream",
     "text": [
      "Name:    H & A TOWING LLC || Owner/Officer:   HANEEN ABBAS MOHAMMEDAWI / MANAGER || Phone:   512-999-8883 || Active || 11710 JOSEPH CLAYTON DR, AUSTIN, TX. 78753\n"
     ]
    }
   ],
   "source": [
    "print(name, \"||\", owner, \"||\", phone, \"||\", license_status, \"||\", phys_address)\n",
    "#going to clean these up in the data frame"
   ]
  },
  {
   "cell_type": "code",
   "execution_count": null,
   "metadata": {},
   "outputs": [],
   "source": []
  },
  {
   "cell_type": "code",
   "execution_count": null,
   "metadata": {},
   "outputs": [],
   "source": []
  },
  {
   "cell_type": "code",
   "execution_count": null,
   "metadata": {},
   "outputs": [],
   "source": []
  },
  {
   "cell_type": "code",
   "execution_count": null,
   "metadata": {},
   "outputs": [],
   "source": []
  },
  {
   "cell_type": "markdown",
   "metadata": {},
   "source": [
    "# Adapt this to work inside of a single cell\n",
    "\n",
    "Double-check that it works. You want it to print out all of the details."
   ]
  },
  {
   "cell_type": "code",
   "execution_count": 7,
   "metadata": {},
   "outputs": [],
   "source": [
    "def get_company_info(tdlr_no):\n",
    "    \n",
    "    url = \"https://www.tdlr.texas.gov/tools_search/\"\n",
    "    #tdlr_no = \"006565540C\"\n",
    "\n",
    "    driver.get(url)\n",
    "\n",
    "    #Type in the TDLR number\n",
    "    tdlr_input = driver.find_element_by_id(\"mcrdata\")\n",
    "    tdlr_input.send_keys(tdlr_no)\n",
    "\n",
    "    #Submit the form\n",
    "    submit_button = driver.find_element_by_id(\"submit3\")\n",
    "    submit_button.click()\n",
    "\n",
    "    #Table with contact info\n",
    "    info_table = driver.find_elements_by_tag_name(\"table\")[4]\n",
    "\n",
    "    name = info_table.find_elements_by_tag_name(\"td\")[2].text.strip()\n",
    "    owner = info_table.find_elements_by_tag_name(\"td\")[4].text.strip()\n",
    "    phone = info_table.find_elements_by_tag_name(\"td\")[6].text.strip()\n",
    "\n",
    "    #Table with status\n",
    "    info_table2 = driver.find_elements_by_tag_name(\"table\")[5]\n",
    "\n",
    "    license_status = info_table2.find_elements_by_tag_name(\"td\")[1].find_element_by_tag_name(\"font\").text.strip()\n",
    "\n",
    "    address_info = info_table2.find_elements_by_tag_name(\"td\")[-1].text.strip()\n",
    "    phys_address = re.findall(r'Physical:\\n(.+\\n.+)', address_info)[0]\n",
    "    phys_address = phys_address.replace('\\n', ', ')\n",
    "    \n",
    "    return {'name' : name, \n",
    "            'owner' : owner, \n",
    "            'phone' : phone, \n",
    "            'license_status' : license_status,\n",
    "            'physical_address' : phys_address}"
   ]
  },
  {
   "cell_type": "code",
   "execution_count": 8,
   "metadata": {},
   "outputs": [
    {
     "data": {
      "text/plain": [
       "{'name': 'Name:    H & A TOWING LLC',\n",
       " 'owner': 'Owner/Officer:   HANEEN ABBAS MOHAMMEDAWI / MANAGER',\n",
       " 'phone': 'Phone:   512-999-8883',\n",
       " 'license_status': 'Active',\n",
       " 'physical_address': '11710 JOSEPH CLAYTON DR, AUSTIN, TX. 78753'}"
      ]
     },
     "execution_count": 8,
     "metadata": {},
     "output_type": "execute_result"
    }
   ],
   "source": [
    "get_company_info(\"006565540C\")"
   ]
  },
  {
   "cell_type": "markdown",
   "metadata": {},
   "source": [
    "# Using .apply to find data about SEVERAL tow truck companies\n",
    "\n",
    "The file `trucks-subset.csv` has information about the trucks, we'll use it to find the pages to scrape.\n",
    "\n",
    "### Open up `trucks-subset.csv` and save it into a dataframe"
   ]
  },
  {
   "cell_type": "code",
   "execution_count": 9,
   "metadata": {},
   "outputs": [
    {
     "data": {
      "text/html": [
       "<div>\n",
       "<style scoped>\n",
       "    .dataframe tbody tr th:only-of-type {\n",
       "        vertical-align: middle;\n",
       "    }\n",
       "\n",
       "    .dataframe tbody tr th {\n",
       "        vertical-align: top;\n",
       "    }\n",
       "\n",
       "    .dataframe thead th {\n",
       "        text-align: right;\n",
       "    }\n",
       "</style>\n",
       "<table border=\"1\" class=\"dataframe\">\n",
       "  <thead>\n",
       "    <tr style=\"text-align: right;\">\n",
       "      <th></th>\n",
       "      <th>TDLR Number</th>\n",
       "    </tr>\n",
       "  </thead>\n",
       "  <tbody>\n",
       "    <tr>\n",
       "      <th>0</th>\n",
       "      <td>006565540C</td>\n",
       "    </tr>\n",
       "    <tr>\n",
       "      <th>1</th>\n",
       "      <td>0654479VSF</td>\n",
       "    </tr>\n",
       "    <tr>\n",
       "      <th>2</th>\n",
       "      <td>006564940C</td>\n",
       "    </tr>\n",
       "  </tbody>\n",
       "</table>\n",
       "</div>"
      ],
      "text/plain": [
       "  TDLR Number\n",
       "0  006565540C\n",
       "1  0654479VSF\n",
       "2  006564940C"
      ]
     },
     "execution_count": 9,
     "metadata": {},
     "output_type": "execute_result"
    }
   ],
   "source": [
    "df_subset = pd.read_csv(\"trucks-subset.csv\")\n",
    "df_subset"
   ]
  },
  {
   "cell_type": "markdown",
   "metadata": {},
   "source": [
    "## Go through each row of the dataset, displaying the URL you will need to scrape for the information on that row\n",
    "\n",
    "You don't have to actually use the search form for each of these - look at the URL you're on, it has the number in it!\n",
    "\n",
    "For example, one URL might look like `https://www.tdlr.texas.gov/tools_search/mccs_display.asp?mcrnumber=006565540C`.\n",
    "\n",
    "- *TIP: Use .apply and a function*\n",
    "- *TIP: You'll need to build this URL from pieces*\n",
    "- *TIP: You probably don't want to `print` unless you're going to fix it for the next question \n",
    "- *TIP: pandas won't showing you the entire url! Run `pd.set_option('display.max_colwidth', None)` to display aaaalll of the text in a cell*"
   ]
  },
  {
   "cell_type": "code",
   "execution_count": 10,
   "metadata": {},
   "outputs": [],
   "source": [
    "def url_define(df_subset):\n",
    "    tdlr_no = df_subset['TDLR Number']\n",
    "    url = f'https://www.tdlr.texas.gov/tools_search/mccs_display.asp?mcrnumber={tdlr_no}'\n",
    "    return url"
   ]
  },
  {
   "cell_type": "code",
   "execution_count": 11,
   "metadata": {},
   "outputs": [
    {
     "data": {
      "text/plain": [
       "0    https://www.tdlr.texas.gov/tools_search/mccs_display.asp?mcrnumber=006565540C\n",
       "1    https://www.tdlr.texas.gov/tools_search/mccs_display.asp?mcrnumber=0654479VSF\n",
       "2    https://www.tdlr.texas.gov/tools_search/mccs_display.asp?mcrnumber=006564940C\n",
       "dtype: object"
      ]
     },
     "execution_count": 11,
     "metadata": {},
     "output_type": "execute_result"
    }
   ],
   "source": [
    "pd.set_option('display.max_colwidth', None)\n",
    "df_subset.apply(url_define, axis=1)\n"
   ]
  },
  {
   "cell_type": "code",
   "execution_count": null,
   "metadata": {},
   "outputs": [],
   "source": []
  },
  {
   "cell_type": "markdown",
   "metadata": {},
   "source": [
    "### Save this URL into a new column of your dataframe, called `url`\n",
    "\n",
    "- *TIP: Use a function and `.apply`*\n",
    "- *TIP: Be sure to use `return`*"
   ]
  },
  {
   "cell_type": "code",
   "execution_count": 12,
   "metadata": {},
   "outputs": [
    {
     "data": {
      "text/html": [
       "<div>\n",
       "<style scoped>\n",
       "    .dataframe tbody tr th:only-of-type {\n",
       "        vertical-align: middle;\n",
       "    }\n",
       "\n",
       "    .dataframe tbody tr th {\n",
       "        vertical-align: top;\n",
       "    }\n",
       "\n",
       "    .dataframe thead th {\n",
       "        text-align: right;\n",
       "    }\n",
       "</style>\n",
       "<table border=\"1\" class=\"dataframe\">\n",
       "  <thead>\n",
       "    <tr style=\"text-align: right;\">\n",
       "      <th></th>\n",
       "      <th>TDLR Number</th>\n",
       "      <th>url</th>\n",
       "    </tr>\n",
       "  </thead>\n",
       "  <tbody>\n",
       "    <tr>\n",
       "      <th>0</th>\n",
       "      <td>006565540C</td>\n",
       "      <td>https://www.tdlr.texas.gov/tools_search/mccs_display.asp?mcrnumber=006565540C</td>\n",
       "    </tr>\n",
       "    <tr>\n",
       "      <th>1</th>\n",
       "      <td>0654479VSF</td>\n",
       "      <td>https://www.tdlr.texas.gov/tools_search/mccs_display.asp?mcrnumber=0654479VSF</td>\n",
       "    </tr>\n",
       "    <tr>\n",
       "      <th>2</th>\n",
       "      <td>006564940C</td>\n",
       "      <td>https://www.tdlr.texas.gov/tools_search/mccs_display.asp?mcrnumber=006564940C</td>\n",
       "    </tr>\n",
       "  </tbody>\n",
       "</table>\n",
       "</div>"
      ],
      "text/plain": [
       "  TDLR Number  \\\n",
       "0  006565540C   \n",
       "1  0654479VSF   \n",
       "2  006564940C   \n",
       "\n",
       "                                                                             url  \n",
       "0  https://www.tdlr.texas.gov/tools_search/mccs_display.asp?mcrnumber=006565540C  \n",
       "1  https://www.tdlr.texas.gov/tools_search/mccs_display.asp?mcrnumber=0654479VSF  \n",
       "2  https://www.tdlr.texas.gov/tools_search/mccs_display.asp?mcrnumber=006564940C  "
      ]
     },
     "execution_count": 12,
     "metadata": {},
     "output_type": "execute_result"
    }
   ],
   "source": [
    "df_subset['url'] = df_subset.apply(url_define, axis=1)\n",
    "df_subset"
   ]
  },
  {
   "cell_type": "markdown",
   "metadata": {},
   "source": [
    "## Go through each row of the dataset, printing out information about each tow truck company.\n",
    "\n",
    "Now will be **scraping** inside of your function.\n",
    "\n",
    "- The business name\n",
    "- Owner/operator\n",
    "- Phone number\n",
    "- License status (Active, Expired, Etc)\n",
    "- Physical address\n",
    "\n",
    "Just print it out for now.\n",
    "\n",
    "- *TIP: use .apply*\n",
    "- *TIP: You'll be using the code you wrote before, but converted into a function*\n",
    "- *TIP: Remember how the TDLR Number is in the URL? You don't need to do the form submission if you don't want!*\n",
    "- *TIP: Make sure you adjust any variables so you don't scrape the same page again and again*"
   ]
  },
  {
   "cell_type": "code",
   "execution_count": 13,
   "metadata": {},
   "outputs": [],
   "source": [
    "def get_company_info(df_subset):\n",
    "    url = df_subset['url']\n",
    "    driver.get(url)\n",
    "    \n",
    "    #Table with contact info\n",
    "    info_table = driver.find_elements_by_tag_name(\"table\")[4]\n",
    "\n",
    "    name = info_table.find_elements_by_tag_name(\"td\")[2].text.strip()\n",
    "    name = re.findall(r'Name: (.+)$', name)[0]\n",
    "    \n",
    "    owner = info_table.find_elements_by_tag_name(\"td\")[4].text.strip()\n",
    "    owner = re.findall(r'Officer: (.+) /', owner)[0]\n",
    "    \n",
    "    phone = info_table.find_elements_by_tag_name(\"td\")[-2].text.strip()\n",
    "    phone = re.findall(r'Phone: (.+)$', phone)[0]\n",
    "    \n",
    "\n",
    "    #Table with status\n",
    "    info_table2 = driver.find_elements_by_tag_name(\"table\")[5]\n",
    "\n",
    "    license_status = info_table2.find_elements_by_tag_name(\"td\")[1].find_element_by_tag_name(\"font\").text.strip()\n",
    "\n",
    "    address_info = info_table2.find_elements_by_tag_name(\"td\")[-1].text.strip()\n",
    "    phys_address = re.findall(r'Physical:\\n(.+\\n.+)', address_info)[0]\n",
    "    phys_address = phys_address.replace('\\n', ', ')\n",
    "    \n",
    "    return {'name' : name, \n",
    "            'owner' : owner, \n",
    "            'phone' : phone, \n",
    "            'license_status' : license_status,\n",
    "            'physical_address' : phys_address}"
   ]
  },
  {
   "cell_type": "code",
   "execution_count": 14,
   "metadata": {},
   "outputs": [],
   "source": [
    "subset_info = df_subset.apply(get_company_info, axis=1)\n",
    "subset_info = list(subset_info)"
   ]
  },
  {
   "cell_type": "code",
   "execution_count": 15,
   "metadata": {},
   "outputs": [
    {
     "data": {
      "text/html": [
       "<div>\n",
       "<style scoped>\n",
       "    .dataframe tbody tr th:only-of-type {\n",
       "        vertical-align: middle;\n",
       "    }\n",
       "\n",
       "    .dataframe tbody tr th {\n",
       "        vertical-align: top;\n",
       "    }\n",
       "\n",
       "    .dataframe thead th {\n",
       "        text-align: right;\n",
       "    }\n",
       "</style>\n",
       "<table border=\"1\" class=\"dataframe\">\n",
       "  <thead>\n",
       "    <tr style=\"text-align: right;\">\n",
       "      <th></th>\n",
       "      <th>name</th>\n",
       "      <th>owner</th>\n",
       "      <th>phone</th>\n",
       "      <th>license_status</th>\n",
       "      <th>physical_address</th>\n",
       "    </tr>\n",
       "  </thead>\n",
       "  <tbody>\n",
       "    <tr>\n",
       "      <th>0</th>\n",
       "      <td>H &amp; A TOWING LLC</td>\n",
       "      <td>HANEEN ABBAS MOHAMMEDAWI</td>\n",
       "      <td>512-999-8883</td>\n",
       "      <td>Active</td>\n",
       "      <td>11710 JOSEPH CLAYTON DR, AUSTIN, TX. 78753</td>\n",
       "    </tr>\n",
       "    <tr>\n",
       "      <th>1</th>\n",
       "      <td>24/7 TOWING AND RECOVERY LLC</td>\n",
       "      <td>SCOTT JENSON</td>\n",
       "      <td>4325576733</td>\n",
       "      <td>Active</td>\n",
       "      <td>3601 N COUNTY ROAD 1148, MIDLAND, TX. 79705</td>\n",
       "    </tr>\n",
       "    <tr>\n",
       "      <th>2</th>\n",
       "      <td>A &amp; N TOWING LLC</td>\n",
       "      <td>ABDULRAHMAN Z ALABDULLAH</td>\n",
       "      <td>2106678546</td>\n",
       "      <td>Active</td>\n",
       "      <td>10838 DEEPWATER BAY, SAN ANTONIO, TX. 78251</td>\n",
       "    </tr>\n",
       "  </tbody>\n",
       "</table>\n",
       "</div>"
      ],
      "text/plain": [
       "                              name                       owner  \\\n",
       "0                 H & A TOWING LLC    HANEEN ABBAS MOHAMMEDAWI   \n",
       "1     24/7 TOWING AND RECOVERY LLC                SCOTT JENSON   \n",
       "2                 A & N TOWING LLC    ABDULRAHMAN Z ALABDULLAH   \n",
       "\n",
       "            phone license_status                             physical_address  \n",
       "0    512-999-8883         Active   11710 JOSEPH CLAYTON DR, AUSTIN, TX. 78753  \n",
       "1      4325576733         Active  3601 N COUNTY ROAD 1148, MIDLAND, TX. 79705  \n",
       "2      2106678546         Active  10838 DEEPWATER BAY, SAN ANTONIO, TX. 78251  "
      ]
     },
     "execution_count": 15,
     "metadata": {},
     "output_type": "execute_result"
    }
   ],
   "source": [
    "df_subset_info = pd.DataFrame(subset_info)\n",
    "df_subset_info"
   ]
  },
  {
   "cell_type": "markdown",
   "metadata": {},
   "source": [
    "## Scrape the following information for each row of the dataset, and save it into new columns in your dataframe.\n",
    "\n",
    "- The business name\n",
    "- Owner/operator\n",
    "- Phone number\n",
    "- License status (Active, Expired, Etc)\n",
    "- Physical address\n",
    "\n",
    "It's basically what we did before, but using the function a little differently.\n",
    "\n",
    "- *TIP: Same as above, but you'll be returning a `pd.Series` and the `.apply` line is going to be a lot longer*\n",
    "- *TIP: Save it to a new dataframe!*\n",
    "- *TIP: Make sure you change your `df` variable names correctly if you're cutting and pasting - there are a few so it can get tricky*"
   ]
  },
  {
   "cell_type": "code",
   "execution_count": 16,
   "metadata": {},
   "outputs": [
    {
     "data": {
      "text/html": [
       "<div>\n",
       "<style scoped>\n",
       "    .dataframe tbody tr th:only-of-type {\n",
       "        vertical-align: middle;\n",
       "    }\n",
       "\n",
       "    .dataframe tbody tr th {\n",
       "        vertical-align: top;\n",
       "    }\n",
       "\n",
       "    .dataframe thead th {\n",
       "        text-align: right;\n",
       "    }\n",
       "</style>\n",
       "<table border=\"1\" class=\"dataframe\">\n",
       "  <thead>\n",
       "    <tr style=\"text-align: right;\">\n",
       "      <th></th>\n",
       "      <th>TDLR Number</th>\n",
       "      <th>url</th>\n",
       "      <th>name</th>\n",
       "      <th>owner</th>\n",
       "      <th>phone</th>\n",
       "      <th>license_status</th>\n",
       "      <th>physical_address</th>\n",
       "    </tr>\n",
       "  </thead>\n",
       "  <tbody>\n",
       "    <tr>\n",
       "      <th>0</th>\n",
       "      <td>006565540C</td>\n",
       "      <td>https://www.tdlr.texas.gov/tools_search/mccs_display.asp?mcrnumber=006565540C</td>\n",
       "      <td>H &amp; A TOWING LLC</td>\n",
       "      <td>HANEEN ABBAS MOHAMMEDAWI</td>\n",
       "      <td>512-999-8883</td>\n",
       "      <td>Active</td>\n",
       "      <td>11710 JOSEPH CLAYTON DR, AUSTIN, TX. 78753</td>\n",
       "    </tr>\n",
       "    <tr>\n",
       "      <th>1</th>\n",
       "      <td>0654479VSF</td>\n",
       "      <td>https://www.tdlr.texas.gov/tools_search/mccs_display.asp?mcrnumber=0654479VSF</td>\n",
       "      <td>24/7 TOWING AND RECOVERY LLC</td>\n",
       "      <td>SCOTT JENSON</td>\n",
       "      <td>4325576733</td>\n",
       "      <td>Active</td>\n",
       "      <td>3601 N COUNTY ROAD 1148, MIDLAND, TX. 79705</td>\n",
       "    </tr>\n",
       "    <tr>\n",
       "      <th>2</th>\n",
       "      <td>006564940C</td>\n",
       "      <td>https://www.tdlr.texas.gov/tools_search/mccs_display.asp?mcrnumber=006564940C</td>\n",
       "      <td>A &amp; N TOWING LLC</td>\n",
       "      <td>ABDULRAHMAN Z ALABDULLAH</td>\n",
       "      <td>2106678546</td>\n",
       "      <td>Active</td>\n",
       "      <td>10838 DEEPWATER BAY, SAN ANTONIO, TX. 78251</td>\n",
       "    </tr>\n",
       "  </tbody>\n",
       "</table>\n",
       "</div>"
      ],
      "text/plain": [
       "  TDLR Number  \\\n",
       "0  006565540C   \n",
       "1  0654479VSF   \n",
       "2  006564940C   \n",
       "\n",
       "                                                                             url  \\\n",
       "0  https://www.tdlr.texas.gov/tools_search/mccs_display.asp?mcrnumber=006565540C   \n",
       "1  https://www.tdlr.texas.gov/tools_search/mccs_display.asp?mcrnumber=0654479VSF   \n",
       "2  https://www.tdlr.texas.gov/tools_search/mccs_display.asp?mcrnumber=006564940C   \n",
       "\n",
       "                              name                       owner  \\\n",
       "0                 H & A TOWING LLC    HANEEN ABBAS MOHAMMEDAWI   \n",
       "1     24/7 TOWING AND RECOVERY LLC                SCOTT JENSON   \n",
       "2                 A & N TOWING LLC    ABDULRAHMAN Z ALABDULLAH   \n",
       "\n",
       "            phone license_status                             physical_address  \n",
       "0    512-999-8883         Active   11710 JOSEPH CLAYTON DR, AUSTIN, TX. 78753  \n",
       "1      4325576733         Active  3601 N COUNTY ROAD 1148, MIDLAND, TX. 79705  \n",
       "2      2106678546         Active  10838 DEEPWATER BAY, SAN ANTONIO, TX. 78251  "
      ]
     },
     "execution_count": 16,
     "metadata": {},
     "output_type": "execute_result"
    }
   ],
   "source": [
    "df_subset_final = df_subset.join(df_subset_info)\n",
    "df_subset_final"
   ]
  },
  {
   "cell_type": "markdown",
   "metadata": {},
   "source": [
    "### Save your dataframe as a CSV named `tow-trucks-extended.csv`"
   ]
  },
  {
   "cell_type": "code",
   "execution_count": 17,
   "metadata": {},
   "outputs": [],
   "source": [
    "df_subset_final.to_csv(\"tow-trucks-extended.csv\", index=False)"
   ]
  },
  {
   "cell_type": "markdown",
   "metadata": {},
   "source": [
    "### Re-open your dataframe to confirm you didn't save any extra weird columns"
   ]
  },
  {
   "cell_type": "code",
   "execution_count": 18,
   "metadata": {},
   "outputs": [
    {
     "data": {
      "text/html": [
       "<div>\n",
       "<style scoped>\n",
       "    .dataframe tbody tr th:only-of-type {\n",
       "        vertical-align: middle;\n",
       "    }\n",
       "\n",
       "    .dataframe tbody tr th {\n",
       "        vertical-align: top;\n",
       "    }\n",
       "\n",
       "    .dataframe thead th {\n",
       "        text-align: right;\n",
       "    }\n",
       "</style>\n",
       "<table border=\"1\" class=\"dataframe\">\n",
       "  <thead>\n",
       "    <tr style=\"text-align: right;\">\n",
       "      <th></th>\n",
       "      <th>TDLR Number</th>\n",
       "      <th>url</th>\n",
       "      <th>name</th>\n",
       "      <th>owner</th>\n",
       "      <th>phone</th>\n",
       "      <th>license_status</th>\n",
       "      <th>physical_address</th>\n",
       "    </tr>\n",
       "  </thead>\n",
       "  <tbody>\n",
       "    <tr>\n",
       "      <th>0</th>\n",
       "      <td>006565540C</td>\n",
       "      <td>https://www.tdlr.texas.gov/tools_search/mccs_display.asp?mcrnumber=006565540C</td>\n",
       "      <td>H &amp; A TOWING LLC</td>\n",
       "      <td>HANEEN ABBAS MOHAMMEDAWI</td>\n",
       "      <td>512-999-8883</td>\n",
       "      <td>Active</td>\n",
       "      <td>11710 JOSEPH CLAYTON DR, AUSTIN, TX. 78753</td>\n",
       "    </tr>\n",
       "    <tr>\n",
       "      <th>1</th>\n",
       "      <td>0654479VSF</td>\n",
       "      <td>https://www.tdlr.texas.gov/tools_search/mccs_display.asp?mcrnumber=0654479VSF</td>\n",
       "      <td>24/7 TOWING AND RECOVERY LLC</td>\n",
       "      <td>SCOTT JENSON</td>\n",
       "      <td>4325576733</td>\n",
       "      <td>Active</td>\n",
       "      <td>3601 N COUNTY ROAD 1148, MIDLAND, TX. 79705</td>\n",
       "    </tr>\n",
       "    <tr>\n",
       "      <th>2</th>\n",
       "      <td>006564940C</td>\n",
       "      <td>https://www.tdlr.texas.gov/tools_search/mccs_display.asp?mcrnumber=006564940C</td>\n",
       "      <td>A &amp; N TOWING LLC</td>\n",
       "      <td>ABDULRAHMAN Z ALABDULLAH</td>\n",
       "      <td>2106678546</td>\n",
       "      <td>Active</td>\n",
       "      <td>10838 DEEPWATER BAY, SAN ANTONIO, TX. 78251</td>\n",
       "    </tr>\n",
       "  </tbody>\n",
       "</table>\n",
       "</div>"
      ],
      "text/plain": [
       "  TDLR Number  \\\n",
       "0  006565540C   \n",
       "1  0654479VSF   \n",
       "2  006564940C   \n",
       "\n",
       "                                                                             url  \\\n",
       "0  https://www.tdlr.texas.gov/tools_search/mccs_display.asp?mcrnumber=006565540C   \n",
       "1  https://www.tdlr.texas.gov/tools_search/mccs_display.asp?mcrnumber=0654479VSF   \n",
       "2  https://www.tdlr.texas.gov/tools_search/mccs_display.asp?mcrnumber=006564940C   \n",
       "\n",
       "                              name                       owner  \\\n",
       "0                 H & A TOWING LLC    HANEEN ABBAS MOHAMMEDAWI   \n",
       "1     24/7 TOWING AND RECOVERY LLC                SCOTT JENSON   \n",
       "2                 A & N TOWING LLC    ABDULRAHMAN Z ALABDULLAH   \n",
       "\n",
       "            phone license_status                             physical_address  \n",
       "0    512-999-8883         Active   11710 JOSEPH CLAYTON DR, AUSTIN, TX. 78753  \n",
       "1      4325576733         Active  3601 N COUNTY ROAD 1148, MIDLAND, TX. 79705  \n",
       "2      2106678546         Active  10838 DEEPWATER BAY, SAN ANTONIO, TX. 78251  "
      ]
     },
     "execution_count": 18,
     "metadata": {},
     "output_type": "execute_result"
    }
   ],
   "source": [
    "pd.read_csv(\"tow-trucks-extended.csv\")"
   ]
  },
  {
   "cell_type": "markdown",
   "metadata": {},
   "source": [
    "## Process the entire `tow-trucks.csv` file\n",
    "\n",
    "We just did it on a short subset so far. Now try it on all of the tow trucks. **Save as the same filename as before**"
   ]
  },
  {
   "cell_type": "code",
   "execution_count": 19,
   "metadata": {},
   "outputs": [
    {
     "data": {
      "text/html": [
       "<div>\n",
       "<style scoped>\n",
       "    .dataframe tbody tr th:only-of-type {\n",
       "        vertical-align: middle;\n",
       "    }\n",
       "\n",
       "    .dataframe tbody tr th {\n",
       "        vertical-align: top;\n",
       "    }\n",
       "\n",
       "    .dataframe thead th {\n",
       "        text-align: right;\n",
       "    }\n",
       "</style>\n",
       "<table border=\"1\" class=\"dataframe\">\n",
       "  <thead>\n",
       "    <tr style=\"text-align: right;\">\n",
       "      <th></th>\n",
       "      <th>TDLR Number</th>\n",
       "    </tr>\n",
       "  </thead>\n",
       "  <tbody>\n",
       "    <tr>\n",
       "      <th>0</th>\n",
       "      <td>006565540C</td>\n",
       "    </tr>\n",
       "    <tr>\n",
       "      <th>1</th>\n",
       "      <td>0654479VSF</td>\n",
       "    </tr>\n",
       "    <tr>\n",
       "      <th>2</th>\n",
       "      <td>006564940C</td>\n",
       "    </tr>\n",
       "    <tr>\n",
       "      <th>3</th>\n",
       "      <td>006542079C</td>\n",
       "    </tr>\n",
       "    <tr>\n",
       "      <th>4</th>\n",
       "      <td>0655733VSF</td>\n",
       "    </tr>\n",
       "    <tr>\n",
       "      <th>5</th>\n",
       "      <td>006563128C</td>\n",
       "    </tr>\n",
       "    <tr>\n",
       "      <th>6</th>\n",
       "      <td>0655400VSF</td>\n",
       "    </tr>\n",
       "    <tr>\n",
       "      <th>7</th>\n",
       "      <td>006563749C</td>\n",
       "    </tr>\n",
       "    <tr>\n",
       "      <th>8</th>\n",
       "      <td>006539867C</td>\n",
       "    </tr>\n",
       "    <tr>\n",
       "      <th>9</th>\n",
       "      <td>006558372C</td>\n",
       "    </tr>\n",
       "    <tr>\n",
       "      <th>10</th>\n",
       "      <td>0654654VSF</td>\n",
       "    </tr>\n",
       "    <tr>\n",
       "      <th>11</th>\n",
       "      <td>006555702C</td>\n",
       "    </tr>\n",
       "    <tr>\n",
       "      <th>12</th>\n",
       "      <td>006565880C</td>\n",
       "    </tr>\n",
       "    <tr>\n",
       "      <th>13</th>\n",
       "      <td>006563709C</td>\n",
       "    </tr>\n",
       "    <tr>\n",
       "      <th>14</th>\n",
       "      <td>006548464C</td>\n",
       "    </tr>\n",
       "    <tr>\n",
       "      <th>15</th>\n",
       "      <td>006558052C</td>\n",
       "    </tr>\n",
       "    <tr>\n",
       "      <th>16</th>\n",
       "      <td>006551017C</td>\n",
       "    </tr>\n",
       "    <tr>\n",
       "      <th>17</th>\n",
       "      <td>0655102VSF</td>\n",
       "    </tr>\n",
       "    <tr>\n",
       "      <th>18</th>\n",
       "      <td>006545942C</td>\n",
       "    </tr>\n",
       "    <tr>\n",
       "      <th>19</th>\n",
       "      <td>006522893C</td>\n",
       "    </tr>\n",
       "  </tbody>\n",
       "</table>\n",
       "</div>"
      ],
      "text/plain": [
       "   TDLR Number\n",
       "0   006565540C\n",
       "1   0654479VSF\n",
       "2   006564940C\n",
       "3   006542079C\n",
       "4   0655733VSF\n",
       "5   006563128C\n",
       "6   0655400VSF\n",
       "7   006563749C\n",
       "8   006539867C\n",
       "9   006558372C\n",
       "10  0654654VSF\n",
       "11  006555702C\n",
       "12  006565880C\n",
       "13  006563709C\n",
       "14  006548464C\n",
       "15  006558052C\n",
       "16  006551017C\n",
       "17  0655102VSF\n",
       "18  006545942C\n",
       "19  006522893C"
      ]
     },
     "execution_count": 19,
     "metadata": {},
     "output_type": "execute_result"
    }
   ],
   "source": [
    "df_full = pd.read_csv(\"tow-trucks.csv\")\n",
    "df_full"
   ]
  },
  {
   "cell_type": "code",
   "execution_count": 20,
   "metadata": {},
   "outputs": [
    {
     "data": {
      "text/html": [
       "<div>\n",
       "<style scoped>\n",
       "    .dataframe tbody tr th:only-of-type {\n",
       "        vertical-align: middle;\n",
       "    }\n",
       "\n",
       "    .dataframe tbody tr th {\n",
       "        vertical-align: top;\n",
       "    }\n",
       "\n",
       "    .dataframe thead th {\n",
       "        text-align: right;\n",
       "    }\n",
       "</style>\n",
       "<table border=\"1\" class=\"dataframe\">\n",
       "  <thead>\n",
       "    <tr style=\"text-align: right;\">\n",
       "      <th></th>\n",
       "      <th>TDLR Number</th>\n",
       "      <th>url</th>\n",
       "    </tr>\n",
       "  </thead>\n",
       "  <tbody>\n",
       "    <tr>\n",
       "      <th>0</th>\n",
       "      <td>006565540C</td>\n",
       "      <td>https://www.tdlr.texas.gov/tools_search/mccs_display.asp?mcrnumber=006565540C</td>\n",
       "    </tr>\n",
       "    <tr>\n",
       "      <th>1</th>\n",
       "      <td>0654479VSF</td>\n",
       "      <td>https://www.tdlr.texas.gov/tools_search/mccs_display.asp?mcrnumber=0654479VSF</td>\n",
       "    </tr>\n",
       "    <tr>\n",
       "      <th>2</th>\n",
       "      <td>006564940C</td>\n",
       "      <td>https://www.tdlr.texas.gov/tools_search/mccs_display.asp?mcrnumber=006564940C</td>\n",
       "    </tr>\n",
       "    <tr>\n",
       "      <th>3</th>\n",
       "      <td>006542079C</td>\n",
       "      <td>https://www.tdlr.texas.gov/tools_search/mccs_display.asp?mcrnumber=006542079C</td>\n",
       "    </tr>\n",
       "    <tr>\n",
       "      <th>4</th>\n",
       "      <td>0655733VSF</td>\n",
       "      <td>https://www.tdlr.texas.gov/tools_search/mccs_display.asp?mcrnumber=0655733VSF</td>\n",
       "    </tr>\n",
       "  </tbody>\n",
       "</table>\n",
       "</div>"
      ],
      "text/plain": [
       "  TDLR Number  \\\n",
       "0  006565540C   \n",
       "1  0654479VSF   \n",
       "2  006564940C   \n",
       "3  006542079C   \n",
       "4  0655733VSF   \n",
       "\n",
       "                                                                             url  \n",
       "0  https://www.tdlr.texas.gov/tools_search/mccs_display.asp?mcrnumber=006565540C  \n",
       "1  https://www.tdlr.texas.gov/tools_search/mccs_display.asp?mcrnumber=0654479VSF  \n",
       "2  https://www.tdlr.texas.gov/tools_search/mccs_display.asp?mcrnumber=006564940C  \n",
       "3  https://www.tdlr.texas.gov/tools_search/mccs_display.asp?mcrnumber=006542079C  \n",
       "4  https://www.tdlr.texas.gov/tools_search/mccs_display.asp?mcrnumber=0655733VSF  "
      ]
     },
     "execution_count": 20,
     "metadata": {},
     "output_type": "execute_result"
    }
   ],
   "source": [
    "df_full['url'] = df_full.apply(url_define, axis=1)\n",
    "df_full.head()"
   ]
  },
  {
   "cell_type": "code",
   "execution_count": 21,
   "metadata": {},
   "outputs": [
    {
     "data": {
      "text/html": [
       "<div>\n",
       "<style scoped>\n",
       "    .dataframe tbody tr th:only-of-type {\n",
       "        vertical-align: middle;\n",
       "    }\n",
       "\n",
       "    .dataframe tbody tr th {\n",
       "        vertical-align: top;\n",
       "    }\n",
       "\n",
       "    .dataframe thead th {\n",
       "        text-align: right;\n",
       "    }\n",
       "</style>\n",
       "<table border=\"1\" class=\"dataframe\">\n",
       "  <thead>\n",
       "    <tr style=\"text-align: right;\">\n",
       "      <th></th>\n",
       "      <th>name</th>\n",
       "      <th>owner</th>\n",
       "      <th>phone</th>\n",
       "      <th>license_status</th>\n",
       "      <th>physical_address</th>\n",
       "    </tr>\n",
       "  </thead>\n",
       "  <tbody>\n",
       "    <tr>\n",
       "      <th>0</th>\n",
       "      <td>H &amp; A TOWING LLC</td>\n",
       "      <td>HANEEN ABBAS MOHAMMEDAWI</td>\n",
       "      <td>512-999-8883</td>\n",
       "      <td>Active</td>\n",
       "      <td>11710 JOSEPH CLAYTON DR, AUSTIN, TX. 78753</td>\n",
       "    </tr>\n",
       "    <tr>\n",
       "      <th>1</th>\n",
       "      <td>24/7 TOWING AND RECOVERY LLC</td>\n",
       "      <td>SCOTT JENSON</td>\n",
       "      <td>4325576733</td>\n",
       "      <td>Active</td>\n",
       "      <td>3601 N COUNTY ROAD 1148, MIDLAND, TX. 79705</td>\n",
       "    </tr>\n",
       "    <tr>\n",
       "      <th>2</th>\n",
       "      <td>A &amp; N TOWING LLC</td>\n",
       "      <td>ABDULRAHMAN Z ALABDULLAH</td>\n",
       "      <td>2106678546</td>\n",
       "      <td>Active</td>\n",
       "      <td>10838 DEEPWATER BAY, SAN ANTONIO, TX. 78251</td>\n",
       "    </tr>\n",
       "    <tr>\n",
       "      <th>3</th>\n",
       "      <td>AR TOWING LLC</td>\n",
       "      <td>TANYA M JOHNSON</td>\n",
       "      <td>4693059587</td>\n",
       "      <td>Active</td>\n",
       "      <td>3014 AURORA MIST DR, LITTLE ELM, TX. 75068</td>\n",
       "    </tr>\n",
       "    <tr>\n",
       "      <th>4</th>\n",
       "      <td>BEST IN THE WEST TOWING, LLC</td>\n",
       "      <td>DANIEL L NASTANSKY</td>\n",
       "      <td>4325575551</td>\n",
       "      <td>Active</td>\n",
       "      <td>2801 N FREMONT AVE, ODESSA, TX. 79764</td>\n",
       "    </tr>\n",
       "  </tbody>\n",
       "</table>\n",
       "</div>"
      ],
      "text/plain": [
       "                              name                       owner  \\\n",
       "0                 H & A TOWING LLC    HANEEN ABBAS MOHAMMEDAWI   \n",
       "1     24/7 TOWING AND RECOVERY LLC                SCOTT JENSON   \n",
       "2                 A & N TOWING LLC    ABDULRAHMAN Z ALABDULLAH   \n",
       "3                    AR TOWING LLC             TANYA M JOHNSON   \n",
       "4     BEST IN THE WEST TOWING, LLC          DANIEL L NASTANSKY   \n",
       "\n",
       "            phone license_status                             physical_address  \n",
       "0    512-999-8883         Active   11710 JOSEPH CLAYTON DR, AUSTIN, TX. 78753  \n",
       "1      4325576733         Active  3601 N COUNTY ROAD 1148, MIDLAND, TX. 79705  \n",
       "2      2106678546         Active  10838 DEEPWATER BAY, SAN ANTONIO, TX. 78251  \n",
       "3      4693059587         Active   3014 AURORA MIST DR, LITTLE ELM, TX. 75068  \n",
       "4      4325575551         Active        2801 N FREMONT AVE, ODESSA, TX. 79764  "
      ]
     },
     "execution_count": 21,
     "metadata": {},
     "output_type": "execute_result"
    }
   ],
   "source": [
    "full_info = list(df_full.apply(get_company_info, axis=1))\n",
    "df_full_info = pd.DataFrame(full_info)\n",
    "df_full_info.head(5)"
   ]
  },
  {
   "cell_type": "code",
   "execution_count": 22,
   "metadata": {},
   "outputs": [
    {
     "data": {
      "text/html": [
       "<div>\n",
       "<style scoped>\n",
       "    .dataframe tbody tr th:only-of-type {\n",
       "        vertical-align: middle;\n",
       "    }\n",
       "\n",
       "    .dataframe tbody tr th {\n",
       "        vertical-align: top;\n",
       "    }\n",
       "\n",
       "    .dataframe thead th {\n",
       "        text-align: right;\n",
       "    }\n",
       "</style>\n",
       "<table border=\"1\" class=\"dataframe\">\n",
       "  <thead>\n",
       "    <tr style=\"text-align: right;\">\n",
       "      <th></th>\n",
       "      <th>TDLR Number</th>\n",
       "      <th>url</th>\n",
       "      <th>name</th>\n",
       "      <th>owner</th>\n",
       "      <th>phone</th>\n",
       "      <th>license_status</th>\n",
       "      <th>physical_address</th>\n",
       "    </tr>\n",
       "  </thead>\n",
       "  <tbody>\n",
       "    <tr>\n",
       "      <th>0</th>\n",
       "      <td>006565540C</td>\n",
       "      <td>https://www.tdlr.texas.gov/tools_search/mccs_display.asp?mcrnumber=006565540C</td>\n",
       "      <td>H &amp; A TOWING LLC</td>\n",
       "      <td>HANEEN ABBAS MOHAMMEDAWI</td>\n",
       "      <td>512-999-8883</td>\n",
       "      <td>Active</td>\n",
       "      <td>11710 JOSEPH CLAYTON DR, AUSTIN, TX. 78753</td>\n",
       "    </tr>\n",
       "    <tr>\n",
       "      <th>1</th>\n",
       "      <td>0654479VSF</td>\n",
       "      <td>https://www.tdlr.texas.gov/tools_search/mccs_display.asp?mcrnumber=0654479VSF</td>\n",
       "      <td>24/7 TOWING AND RECOVERY LLC</td>\n",
       "      <td>SCOTT JENSON</td>\n",
       "      <td>4325576733</td>\n",
       "      <td>Active</td>\n",
       "      <td>3601 N COUNTY ROAD 1148, MIDLAND, TX. 79705</td>\n",
       "    </tr>\n",
       "    <tr>\n",
       "      <th>2</th>\n",
       "      <td>006564940C</td>\n",
       "      <td>https://www.tdlr.texas.gov/tools_search/mccs_display.asp?mcrnumber=006564940C</td>\n",
       "      <td>A &amp; N TOWING LLC</td>\n",
       "      <td>ABDULRAHMAN Z ALABDULLAH</td>\n",
       "      <td>2106678546</td>\n",
       "      <td>Active</td>\n",
       "      <td>10838 DEEPWATER BAY, SAN ANTONIO, TX. 78251</td>\n",
       "    </tr>\n",
       "    <tr>\n",
       "      <th>3</th>\n",
       "      <td>006542079C</td>\n",
       "      <td>https://www.tdlr.texas.gov/tools_search/mccs_display.asp?mcrnumber=006542079C</td>\n",
       "      <td>AR TOWING LLC</td>\n",
       "      <td>TANYA M JOHNSON</td>\n",
       "      <td>4693059587</td>\n",
       "      <td>Active</td>\n",
       "      <td>3014 AURORA MIST DR, LITTLE ELM, TX. 75068</td>\n",
       "    </tr>\n",
       "    <tr>\n",
       "      <th>4</th>\n",
       "      <td>0655733VSF</td>\n",
       "      <td>https://www.tdlr.texas.gov/tools_search/mccs_display.asp?mcrnumber=0655733VSF</td>\n",
       "      <td>BEST IN THE WEST TOWING, LLC</td>\n",
       "      <td>DANIEL L NASTANSKY</td>\n",
       "      <td>4325575551</td>\n",
       "      <td>Active</td>\n",
       "      <td>2801 N FREMONT AVE, ODESSA, TX. 79764</td>\n",
       "    </tr>\n",
       "  </tbody>\n",
       "</table>\n",
       "</div>"
      ],
      "text/plain": [
       "  TDLR Number  \\\n",
       "0  006565540C   \n",
       "1  0654479VSF   \n",
       "2  006564940C   \n",
       "3  006542079C   \n",
       "4  0655733VSF   \n",
       "\n",
       "                                                                             url  \\\n",
       "0  https://www.tdlr.texas.gov/tools_search/mccs_display.asp?mcrnumber=006565540C   \n",
       "1  https://www.tdlr.texas.gov/tools_search/mccs_display.asp?mcrnumber=0654479VSF   \n",
       "2  https://www.tdlr.texas.gov/tools_search/mccs_display.asp?mcrnumber=006564940C   \n",
       "3  https://www.tdlr.texas.gov/tools_search/mccs_display.asp?mcrnumber=006542079C   \n",
       "4  https://www.tdlr.texas.gov/tools_search/mccs_display.asp?mcrnumber=0655733VSF   \n",
       "\n",
       "                              name                       owner  \\\n",
       "0                 H & A TOWING LLC    HANEEN ABBAS MOHAMMEDAWI   \n",
       "1     24/7 TOWING AND RECOVERY LLC                SCOTT JENSON   \n",
       "2                 A & N TOWING LLC    ABDULRAHMAN Z ALABDULLAH   \n",
       "3                    AR TOWING LLC             TANYA M JOHNSON   \n",
       "4     BEST IN THE WEST TOWING, LLC          DANIEL L NASTANSKY   \n",
       "\n",
       "            phone license_status                             physical_address  \n",
       "0    512-999-8883         Active   11710 JOSEPH CLAYTON DR, AUSTIN, TX. 78753  \n",
       "1      4325576733         Active  3601 N COUNTY ROAD 1148, MIDLAND, TX. 79705  \n",
       "2      2106678546         Active  10838 DEEPWATER BAY, SAN ANTONIO, TX. 78251  \n",
       "3      4693059587         Active   3014 AURORA MIST DR, LITTLE ELM, TX. 75068  \n",
       "4      4325575551         Active        2801 N FREMONT AVE, ODESSA, TX. 79764  "
      ]
     },
     "execution_count": 22,
     "metadata": {},
     "output_type": "execute_result"
    }
   ],
   "source": [
    "df_full_final = df_full.join(df_full_info)\n",
    "df_full_final.head(5)"
   ]
  },
  {
   "cell_type": "code",
   "execution_count": 23,
   "metadata": {},
   "outputs": [],
   "source": [
    "df_full_final.to_csv(\"tow-trucks-extended.csv\", index=False)"
   ]
  },
  {
   "cell_type": "code",
   "execution_count": null,
   "metadata": {},
   "outputs": [],
   "source": []
  }
 ],
 "metadata": {
  "kernelspec": {
   "display_name": "Python 3",
   "language": "python",
   "name": "python3"
  },
  "language_info": {
   "codemirror_mode": {
    "name": "ipython",
    "version": 3
   },
   "file_extension": ".py",
   "mimetype": "text/x-python",
   "name": "python",
   "nbconvert_exporter": "python",
   "pygments_lexer": "ipython3",
   "version": "3.8.2"
  }
 },
 "nbformat": 4,
 "nbformat_minor": 2
}
